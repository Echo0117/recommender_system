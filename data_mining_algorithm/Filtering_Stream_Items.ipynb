{
 "cells": [
  {
   "cell_type": "markdown",
   "metadata": {
    "id": "OpOHLyhPpaxC"
   },
   "source": [
    "# Algorithms for Data Science"
   ]
  },
  {
   "cell_type": "markdown",
   "metadata": {
    "id": "NvZ7rLY2pg8i"
   },
   "source": [
    "## Filtering Stream Items"
   ]
  },
  {
   "cell_type": "markdown",
   "metadata": {
    "id": "NqIyJ2BgplVA"
   },
   "source": [
    "### 1. Preliminaries \n",
    "\n",
    "The objective of this lab is to implement algorithms for filtering \"good\" items on streams. We will start by the simple implementation using only one hash function, and then it will be required of you to implement the full Bloom filter. We assume a random stream $S$ of $m$ email strings. We assume that the first $g$ emails are the good ones, that we have $n$ bits allocated in the bit array $B$ (for simplicity, implemented as an array here)."
   ]
  },
  {
   "cell_type": "code",
   "execution_count": 1,
   "metadata": {
    "id": "uj1GxrPF_DxQ"
   },
   "outputs": [
    {
     "name": "stdout",
     "output_type": "stream",
     "text": [
      "['hpyan@lozpo', 'txfky@unlbx', 'kqfit@iouyf', 'gxfxz@pfubn', 'rehod@rgjzn', 'rmrtt@qzqwr', 'oljcq@thgpd', 'kydcl@zelpc', 'iypzb@dthpc', 'idijv@drmbt', 'rzrgb@frjnl', 'dxhsj@jypkh', 'kyvwc@chrwd', 'zbcbr@ittth', 'bqzhu@pdreo', 'frcsb@ajnqr', 'pqlbp@rqtbo', 'lnsob@bjcok', 'lwwra@oksdb', 'avbzp@hghhi', 'swlkr@ypxzi', 'bwege@xechp', 'tljtz@jskwv', 'wcams@jwmbv', 'wyhrg@rqcub', 'xnjgq@gecvf', 'ivyzk@ihapl', 'jukxq@bhqoh', 'jhmsv@eaggb', 'rjbzj@stywe', 'vbjgb@qybpx', 'ugmbc@ybyhk', 'qnsvv@cdwlw', 'lmhyc@hacfj', 'gbcwo@cobsy', 'sfedu@echfc', 'qsfmr@fwric', 'wbkbp@etmnq', 'pkceu@cmqso', 'bjezr@qtzsj', 'xlsps@zntyj', 'fngsp@egtdl', 'fokgp@eajxr', 'upafm@imnwc', 'eopzd@lgloc', 'bcsgz@eftfn', 'mlmjv@gdnfz', 'haxkn@ezpop', 'mwqrt@vrmru', 'naofo@ugvgz', 'iguqw@dpagv', 'cvhhu@uqybr', 'domky@nxpsx', 'nuqbv@ppdbo', 'gjvvg@rhskg', 'tyqmw@dvngl', 'efiwq@kqfla', 'rwdsr@ipfew', 'edshi@wbtzo', 'dxzys@ahdxm', 'bftuz@mrkpv', 'wwogq@eldhf', 'hlepx@jxkio', 'iadrp@zfrfj', 'tvrav@gmnlz', 'lkyzv@lfvss', 'oeuqj@rompr', 'mulok@yahbz', 'tmidj@xuskb', 'kjgxb@oloek', 'sirvi@fgurz', 'untvi@ysytj', 'wtbdl@fiygr', 'ofmcj@skttm', 'wtlip@qsdwj', 'gjqqn@pqfva', 'jceyy@yquie', 'vmvfn@ilskl', 'ubhit@ocanx', 'erxmm@hwatg', 'jueem@ptaxb', 'slepo@zfcqv', 'nggdh@nmsrp', 'qkhxc@gwtqs', 'aqtot@ijawy', 'pahco@qkxid', 'vcrni@ktmvw', 'jyvgm@lzzqr', 'hagvh@ozyqg', 'kifuj@qmchd', 'ditjo@pruve', 'bavvs@dlkiw', 'jkhky@rxniy', 'juqep@lgaex', 'fsdme@ngyko', 'zejyg@ljseh', 'qbfne@vqyxl', 'frkgv@jhgha', 'tukol@azsmn', 'zpmdk@sicac']\n"
     ]
    }
   ],
   "source": [
    "import random\n",
    "from string import ascii_lowercase\n",
    "\n",
    "#parameters\n",
    "m = 100\n",
    "g = 10\n",
    "stream_size = 10000\n",
    "n = 512\n",
    "\n",
    "#generate some random strings of size 5 + 1 + 5\n",
    "D = []\n",
    "for _ in range(m):\n",
    "  D.append(''.join(random.choice(ascii_lowercase) for i in range(5))+\\\n",
    "           '@'+''.join(random.choice(ascii_lowercase) for i in range(5)))\n",
    "\n",
    "print(D)"
   ]
  },
  {
   "cell_type": "markdown",
   "metadata": {
    "id": "GgKzrJj3_oiX"
   },
   "source": [
    "### 2. Creating a Hash Function, Filtering Items Using a Single Hash\n",
    "\n",
    "In the following we create a hash function $h(x)$, which also takes as a parameter a value and $n$, and returns a value in $0\\dots n-1$. We populate the byte array $B$, and then we simulate a stream taking random values from $D$ and checking whether the value is good or not. We measure the true positive, false positive, and false negative rates. "
   ]
  },
  {
   "cell_type": "code",
   "execution_count": 3,
   "metadata": {
    "colab": {
     "base_uri": "https://localhost:8080/",
     "height": 35
    },
    "id": "IbQ0B1a3BpAV",
    "outputId": "0ee899b2-b9d8-4a43-8dce-ecf772cfc42a"
   },
   "outputs": [
    {
     "name": "stdout",
     "output_type": "stream",
     "text": [
      "[0, 0, 0, 0, 0, 0, 0, 0, 0, 0, 0, 0, 0, 0, 0, 0, 1, 0, 0, 0, 0, 0, 0, 0, 0, 0, 0, 0, 0, 0, 0, 0, 1, 0, 0, 0, 0, 0, 0, 0, 0, 0, 0, 0, 0, 0, 0, 0, 1, 1, 0, 0, 0, 0, 1, 0, 0, 0, 0, 0, 0, 0, 0, 0, 0, 0, 0, 1, 0, 0, 0, 0, 0, 0, 0, 0, 0, 0, 0, 0, 0, 0, 0, 0, 0, 0, 0, 0, 0, 0, 0, 0, 0, 0, 0, 0, 0, 0, 0, 0, 0, 0, 0, 0, 0, 0, 0, 0, 0, 0, 1, 0, 0, 0, 0, 1, 0, 0, 0, 1, 0, 1, 0, 0, 0, 0, 0, 0]\n",
      "False positive rate: 0.087997\n"
     ]
    }
   ],
   "source": [
    "n = 128\n",
    "\n",
    "#hash function\n",
    "def h(x,n):\n",
    "  return hash(x)%n\n",
    "\n",
    "good_set = set(D[:g]) #just for checking TP and FP rates\n",
    "\n",
    "#allocate the array of 0s\n",
    "B = [0] * n\n",
    "\n",
    "#fill the byte array\n",
    "for i in range(g): B[h(D[i],n)] = 1\n",
    "    \n",
    "print(B)\n",
    "\n",
    "tp = 0 # good items passing\n",
    "fp = 0 # bad items passing\n",
    "tn = 0 # bad items discarded\n",
    "fn = 0 # good items discarded\n",
    "\n",
    "#simulate a stream\n",
    "for _ in range(stream_size):\n",
    "  #take a random email\n",
    "  s = random.choice(D)\n",
    "  #check its hash value\n",
    "  if B[h(s,n)]==1: #good\n",
    "    if s not in good_set:\n",
    "      fp += 1\n",
    "    else:\n",
    "      tp += 1\n",
    "  else: #bad \n",
    "    if s in good_set:\n",
    "      fn += 1\n",
    "    else:\n",
    "      tn += 1\n",
    "\n",
    "print('False positive rate: %f'%(float(fp)/float(tn+fp)))"
   ]
  },
  {
   "cell_type": "markdown",
   "metadata": {
    "id": "poLqQQeBanUH"
   },
   "source": [
    "We may want to create a random hash function that can also be pairwise independent when we will need to generate $k$ independent pairwise hashes.\n",
    "The following procedure can be implemented:\n",
    "* choose a large prime number $p$\n",
    "* generate two random numbers $a$ and $b$ in the range $\\{1,\\dots,p\\}$\n",
    "* the hash is then $h_{a,b}(x)=ax+b \\mod p$\n",
    "* we can also restrict it into $\\{0,\\dots,n-1\\}$"
   ]
  },
  {
   "cell_type": "code",
   "execution_count": 4,
   "metadata": {
    "colab": {
     "base_uri": "https://localhost:8080/",
     "height": 55
    },
    "id": "muzsN80wa3gY",
    "outputId": "addce3d3-7228-4c61-9402-c2ebc55f0075"
   },
   "outputs": [
    {
     "name": "stdout",
     "output_type": "stream",
     "text": [
      "[0, 0, 0, 0, 1, 0, 0, 0, 0, 1, 0, 0, 0, 0, 0, 0, 0, 0, 0, 0, 0, 0, 0, 0, 0, 0, 1, 0, 0, 0, 0, 0, 0, 0, 0, 0, 0, 1, 0, 0, 0, 0, 0, 0, 0, 0, 0, 0, 0, 1, 0, 0, 0, 0, 0, 0, 0, 0, 0, 0, 0, 0, 0, 0, 0, 0, 0, 0, 0, 0, 0, 0, 0, 0, 0, 1, 0, 0, 0, 0, 1, 0, 0, 0, 0, 0, 0, 0, 0, 0, 0, 0, 0, 0, 0, 0, 0, 0, 0, 0, 0, 0, 0, 0, 0, 0, 0, 0, 0, 0, 0, 0, 0, 1, 0, 0, 0, 0, 0, 0, 0, 0, 0, 0, 0, 0, 0, 1]\n"
     ]
    }
   ],
   "source": [
    "p = 1223543677\n",
    "\n",
    "a = random.randrange(p)\n",
    "b = random.randrange(p)\n",
    "\n",
    "def h(x,a,b,p,n):\n",
    "  return ((a*hash(x)+b)%p)%n\n",
    "#remark: here we use hash(x) instead of the values to allow for all hashable python types\n",
    "#   e.g., strings, tuples\n",
    "\n",
    "#reinitialize the array, for testing\n",
    "B = [0] * n\n",
    "\n",
    "for i in range(g): \n",
    "  B[h(D[i],a,b,p,n)] = 1\n",
    "\n",
    "print(B)"
   ]
  },
  {
   "cell_type": "markdown",
   "metadata": {
    "id": "Dz9rNT2Na35t"
   },
   "source": [
    "### 3. **TASK** - Bloom Filters\n",
    "\n",
    "Your task is to implement the Bloom filters as described in the class lecture. For this, you have to:\n",
    "1. generate $k$ random pairwise independent hash functions (_hint_: use the example shown above)\n",
    "2. initialize $B$, by setting $1$ in each $h_i(x)$, $i\\in\\{1,\\dots,k\\}$, for all items $x$ in the good set\n",
    "3. an item $s$ in the stream is considered good if, for all $i\\in\\{1,\\dots,k\\}$, we have $B[h_i(s)]=1$\n",
    "\n",
    "Measure the true positive and false positive rate for various values of $k$ and compare to the values obtained when setting $k=n/m\\ln 2$ (to the nearest integer value). What do you notice?\n",
    "\n",
    "Rates:\n",
    "\n",
    "$\n",
    "  \\text{false positive rate} \\frac{FP}{FP+TN}\n",
    "$\n",
    "\n",
    "$\n",
    "  \\text{true positive rate} \\frac{TP}{TP+FN}\n",
    "$\n",
    "\n",
    "（tp should always be \"1\")\n",
    "vary k, k is the number of hash functions"
   ]
  },
  {
   "cell_type": "code",
   "execution_count": 11,
   "metadata": {},
   "outputs": [],
   "source": [
    "import math\n",
    "\n",
    "n = 128\n",
    "p = 1223543677\n",
    "fp_list = []\n",
    "random.seed(42)\n",
    "good_set = set(D[:g])\n",
    "#take a random email\n",
    "s = random.choices(D, k=stream_size)\n",
    "\n",
    "\n",
    "def h(x: str, a: int, b: int, p: int, n:int) -> int:\n",
    "  '''\n",
    "  description: set hash functions\n",
    "  param {str} x \n",
    "  param {int} a\n",
    "  param {int} b\n",
    "  param {int} p\n",
    "  param {int} n\n",
    "  return {int} the hash value\n",
    "  '''\n",
    "  return ((a*hash(x)+b)%p)%n\n",
    "\n",
    "\n",
    "def gen_hash_functions_params(k: int) -> list:\n",
    "\n",
    "  '''\n",
    "  description: generative the random parameters for hash functions\n",
    "  param {int} k\n",
    "  return {list} a list of parameters\n",
    "  '''\n",
    "  hash_functions_params = []\n",
    "  for i in range(k):\n",
    "    a = random.randrange(p)\n",
    "    b = random.randrange(p)\n",
    "    hash_functions_params.append([a, b])\n",
    "  return hash_functions_params\n",
    "\n",
    "\n",
    "def get_false_positive(s: list, B: list, stream_size: int, hash_functions_params: list, good_set: list):\n",
    "  '''\n",
    "  description: calculate the false positive values.\n",
    "  param {list} s\n",
    "  param {list} B\n",
    "  param {int} stream_size\n",
    "  param {list} hash_functions_params\n",
    "  param {list} good_set\n",
    "  return fp, tn: false positive and ture negative values\n",
    "  '''\n",
    "  tp = 0 # good items passing\n",
    "  fp = 0 # bad items passing\n",
    "  tn = 0 # bad items discarded\n",
    "  fn = 0 # good items discarded\n",
    "\n",
    "  #simulate a stream\n",
    "  for i in range(stream_size):\n",
    "    #check its hash value\n",
    "    count = 0\n",
    "    for j, val in enumerate(hash_functions_params):\n",
    "      a = val[0]\n",
    "      b = val[1]\n",
    "      if B[h(s[i],a,b,p,n)]==1: \n",
    "        count += 1\n",
    "        \n",
    "    if count == len(hash_functions_params):#good\n",
    "      if s[i] not in good_set:\n",
    "        fp += 1\n",
    "      else:\n",
    "        tp += 1\n",
    "    else: #bad \n",
    "      if s[i] in good_set:\n",
    "        fn += 1\n",
    "      else:\n",
    "        tn += 1\n",
    "  return fp, tn\n",
    "\n",
    "\n",
    "fp_probability_list = []\n",
    "for k in range(1,100):\n",
    "  # generate k random pairwise independent hash functions\n",
    "  hash_functions_params = gen_hash_functions_params(k)\n",
    "\n",
    "  #reinitialize the array, for testing\n",
    "  B = [0] * n\n",
    "\n",
    "  for val in hash_functions_params:\n",
    "    for i in range(g): \n",
    "      a = val[0]\n",
    "      b = val[1]\n",
    "      B[h(D[i],a,b,p,n)] = 1\n",
    "\n",
    "  # calculate false positive\n",
    "  fp, tn = get_false_positive(s, B, stream_size, hash_functions_params, good_set)\n",
    "  fp_probability = pow(1-pow(math.e,-k*g/n),k)\n",
    "\n",
    "  fp_list.append(float(fp)/float(tn+fp))\n",
    "  fp_probability_list.append(fp_probability)\n"
   ]
  },
  {
   "cell_type": "markdown",
   "metadata": {},
   "source": [
    "Plot the false positive curves."
   ]
  },
  {
   "cell_type": "code",
   "execution_count": 12,
   "metadata": {},
   "outputs": [
    {
     "data": {
      "text/plain": [
       "[<matplotlib.lines.Line2D at 0x7fecf075d910>]"
      ]
     },
     "execution_count": 12,
     "metadata": {},
     "output_type": "execute_result"
    },
    {
     "data": {
      "image/png": "[encoded data removed]",
      "text/plain": [
       "<Figure size 432x288 with 1 Axes>"
      ]
     },
     "metadata": {
      "needs_background": "light"
     },
     "output_type": "display_data"
    }
   ],
   "source": [
    "import matplotlib.pyplot as plt\n",
    "plt.ylabel('False positive')\n",
    "plt.xlabel('number of k')\n",
    "plt.title(\"The actual false positive values\")\n",
    "plt.plot(fp_list)"
   ]
  },
  {
   "cell_type": "code",
   "execution_count": 13,
   "metadata": {},
   "outputs": [
    {
     "data": {
      "text/plain": [
       "[<matplotlib.lines.Line2D at 0x7fed216709d0>]"
      ]
     },
     "execution_count": 13,
     "metadata": {},
     "output_type": "execute_result"
    },
    {
     "data": {
      "image/png": "[encoded data removed]",
      "text/plain": [
       "<Figure size 432x288 with 1 Axes>"
      ]
     },
     "metadata": {
      "needs_background": "light"
     },
     "output_type": "display_data"
    }
   ],
   "source": [
    "plt.ylabel('False positive probability')\n",
    "plt.xlabel('number of k')\n",
    "plt.title(\"The ideal false positive probabilities\")\n",
    "plt.plot(fp_probability_list)"
   ]
  },
  {
   "cell_type": "markdown",
   "metadata": {
    "id": "FZHcE7Jve1PR"
   },
   "source": [
    "According to the curves above, the false positive values decreases when the number of k is at the beginning of x coordinate. Then it starts to increase with the increase of k. But the increasing trend is flattening when k approaches certain amount, as it is already near to 1. Also, the actual false positive curve varies a lot compared to the ideal one as there are randomness in reality.\n",
    "\n",
    "In addition, we can see that when we setting $k=n/m\\ln 2$ (to the nearest integer value), we can get the minimum value of fase positive values. At this point, k is the optimal number of hash functions."
   ]
  }
 ],
 "metadata": {
  "colab": {
   "collapsed_sections": [],
   "name": "m2_ds_algods_lab2_filtering_solved.ipynb",
   "provenance": []
  },
  "kernelspec": {
   "display_name": "Python 3.9.12 ('base')",
   "language": "python",
   "name": "python3"
  },
  "language_info": {
   "codemirror_mode": {
    "name": "ipython",
    "version": 3
   },
   "file_extension": ".py",
   "mimetype": "text/x-python",
   "name": "python",
   "nbconvert_exporter": "python",
   "pygments_lexer": "ipython3",
   "version": "3.9.12 (main, Apr  5 2022, 01:53:17) \n[Clang 12.0.0 ]"
  },
  "vscode": {
   "interpreter": {
    "hash": "1e5c6842fc39ac49b4102b6863c7493ee82b59579c358c406788e39adabcdc60"
   }
  }
 },
 "nbformat": 4,
 "nbformat_minor": 2
}
