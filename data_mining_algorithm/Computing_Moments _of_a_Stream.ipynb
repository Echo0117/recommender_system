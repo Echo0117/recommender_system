{
 "cells": [
  {
   "cell_type": "markdown",
   "metadata": {
    "id": "OpOHLyhPpaxC"
   },
   "source": [
    "# Algorithms for Data Science"
   ]
  },
  {
   "cell_type": "markdown",
   "metadata": {
    "id": "NvZ7rLY2pg8i"
   },
   "source": [
    "## Computing Moments of a Stream"
   ]
  },
  {
   "cell_type": "markdown",
   "metadata": {
    "id": "NqIyJ2BgplVA"
   },
   "source": [
    "### 1. Preliminaries \n",
    "\n",
    "The objective of this lab is to implement the Alon-Matias-Szegedy approach to estimate the second moment of the stream in which $N$ distinct items from $0$ to $N-1$ appear."
   ]
  },
  {
   "cell_type": "code",
   "execution_count": 5,
   "metadata": {
    "id": "uj1GxrPF_DxQ"
   },
   "outputs": [],
   "source": [
    "import random\n",
    "\n",
    "#parameters\n",
    "N = 256 #N distinct values between 0 and N-1\n",
    "stream_size = 10000"
   ]
  },
  {
   "cell_type": "markdown",
   "metadata": {
    "id": "GgKzrJj3_oiX"
   },
   "source": [
    "### 2. Alon-Matias-Szegedy for Second Moments\n",
    "\n",
    "We implement here the AMS approach when the stream size is known:\n",
    "1. We choose a number $t$ between $0$ and $\\text{stream\\_size}-1$ from which the counts are kept\n",
    "2. When the stream is at timestamp $t$, we initialize $\\text{v}=S(t)$ and $c=1$\n",
    "3. Whenever we encounter $v$ in the stream, we increment $c$ by $1$\n",
    "\n",
    "At the end of the stream, we output the estimator $\\text{stream\\_size}\\times(2c-1)$\n",
    "\n",
    "This can be easily extended to an arbirary number of counts, by generating $k$ different timestamps and keeping arrays of $v$ and $c$."
   ]
  },
  {
   "cell_type": "code",
   "execution_count": 26,
   "metadata": {
    "colab": {
     "base_uri": "https://localhost:8080/",
     "height": 50
    },
    "id": "IbQ0B1a3BpAV",
    "outputId": "fa5700bf-7e9c-4303-aeae-736ce1b97b02"
   },
   "outputs": [
    {
     "name": "stdout",
     "output_type": "stream",
     "text": [
      "Estimation of 2nd moment: 388000\n",
      "True second moment: 399904\n"
     ]
    }
   ],
   "source": [
    "#initialize values and counts\n",
    "v = []\n",
    "c = []\n",
    "#keeping the true counts \n",
    "counts = {}\n",
    "#choosing k timestamps\n",
    "k = 10\n",
    "t = []\n",
    "for _ in range(k):\n",
    "  t.append(random.randrange(stream_size))\n",
    "  v.append(-1)\n",
    "  c.append(0)\n",
    "\n",
    "for i in range(stream_size):\n",
    "  #take a random value between 0 and N-1\n",
    "  s = random.randrange(N)\n",
    "  #AMS approach\n",
    "  for j in range(k):\n",
    "    if i==t[j]: #chosen timestamp\n",
    "      v[j] = s\n",
    "      c[j] = 1\n",
    "    elif i>t[j] and s==v[j]: #after timestamp\n",
    "      c[j] += 1\n",
    "  #true counts (only for evaluation!)\n",
    "  if s not in counts:\n",
    "    counts[s] = 0\n",
    "  counts[s] = counts[s]+1\n",
    "\n",
    "#true 2nd moment\n",
    "true = 0\n",
    "for x in counts.keys():\n",
    "  true += counts[x]*counts[x]\n",
    "\n",
    "#2nd moment estimator\n",
    "est = 0\n",
    "for x in range(k):\n",
    "  est += 2*c[x]-1\n",
    "est = int((stream_size/k)*est)\n",
    "\n",
    "print('Estimation of 2nd moment: %d'%est)\n",
    "print('True second moment: %d'%true)"
   ]
  },
  {
   "cell_type": "markdown",
   "metadata": {
    "id": "Dz9rNT2Na35t"
   },
   "source": [
    "### 3. **TASK** AMS for Infinite Streams\n",
    "\n",
    "Implement the case when the estimator does not know the size of the stream.\n",
    "\n",
    "In this case, instead of generating $k$ timestamps, we proceed to use _Reservoir Sampling_ as explained in the lecture:\n",
    "1. initialize $v$ and $c$ with the corresponding values in the first $k$ items in the stream $S$,\n",
    "2. for timestamp $t>k$, we decide whether to replace a $v$ with probability $k/t$,\n",
    "3. if true, we replace a value (and its corresponding count) at random in the arrays $v$ and $c$ (and re-initialize the values)."
   ]
  },
  {
   "cell_type": "code",
   "execution_count": 21,
   "metadata": {},
   "outputs": [
    {
     "name": "stdout",
     "output_type": "stream",
     "text": [
      "Estimation of 2nd moment: 382000\n",
      "True second moment: 402024\n"
     ]
    }
   ],
   "source": [
    "#initialize values and counts\n",
    "v = []\n",
    "c = []\n",
    "#keeping the true counts \n",
    "counts = {}\n",
    "#choosing k timestamps\n",
    "k = 10\n",
    "for _ in range(k):\n",
    "  # t.append(random.randrange(stream_size))\n",
    "  v.append(-1)\n",
    "  c.append(0)\n",
    "\n",
    "t = [0] * k\n",
    "for i in range(stream_size):\n",
    "  # use Reservoir Sampling to get the timestamps\n",
    "  if i < k:\n",
    "    t[i] = i\n",
    "  else:\n",
    "    j = random.randrange(i)\n",
    "    if j < k:\n",
    "      t[j]=i\n",
    "\n",
    "  #AMS approach\n",
    "  #take a random value between 0 and N-1\n",
    "  s = random.randrange(N)\n",
    "  for j in range(k):\n",
    "    if i==t[j]: #chosen timestamp\n",
    "      v[j] = s\n",
    "      c[j] = 1\n",
    "    elif i>t[j] and s==v[j]: #after timestamp\n",
    "      c[j] += 1\n",
    "  #true counts (only for evaluation!)\n",
    "  if s not in counts:\n",
    "    counts[s] = 0\n",
    "  counts[s] = counts[s]+1\n",
    "\n",
    "#true 2nd moment\n",
    "true = 0\n",
    "for x in counts.keys():\n",
    "  true += counts[x]*counts[x]\n",
    "\n",
    "#2nd moment estimator\n",
    "est = 0\n",
    "for x in range(k):\n",
    "  est += 2*c[x]-1\n",
    "est = int((stream_size/k)*est)\n",
    "\n",
    "print('Estimation of 2nd moment: %d'%est)\n",
    "print('True second moment: %d'%true)"
   ]
  },
  {
   "cell_type": "markdown",
   "metadata": {
    "id": "FZHcE7Jve1PR"
   },
   "source": [
    "In AMS algorithm, we randomly select a position from the stream, then calculate the number of occurrences after the selected position of the data stream. However, we have infinite streams here, so in order to randomly select a position from the stream, we used reservoir sampling algorithm here. Based on this, we implemented the AMS algorithm. The estimation and true second moment are close as shown above."
   ]
  }
 ],
 "metadata": {
  "colab": {
   "collapsed_sections": [],
   "name": "m2_ds_algods_lab4_moments.ipynb",
   "provenance": []
  },
  "kernelspec": {
   "display_name": "Python 3.9.12 ('base')",
   "language": "python",
   "name": "python3"
  },
  "language_info": {
   "codemirror_mode": {
    "name": "ipython",
    "version": 3
   },
   "file_extension": ".py",
   "mimetype": "text/x-python",
   "name": "python",
   "nbconvert_exporter": "python",
   "pygments_lexer": "ipython3",
   "version": "3.9.12 (main, Apr  5 2022, 01:53:17) \n[Clang 12.0.0 ]"
  },
  "vscode": {
   "interpreter": {
    "hash": "1e5c6842fc39ac49b4102b6863c7493ee82b59579c358c406788e39adabcdc60"
   }
  }
 },
 "nbformat": 4,
 "nbformat_minor": 2
}
