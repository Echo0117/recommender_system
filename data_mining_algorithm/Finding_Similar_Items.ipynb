{
 "cells": [
  {
   "cell_type": "markdown",
   "metadata": {
    "colab_type": "text",
    "id": "City5_WJEfye"
   },
   "source": [
    "# Algorithms for Data Science"
   ]
  },
  {
   "cell_type": "markdown",
   "metadata": {
    "colab_type": "text",
    "id": "ySZT0ubAEjJ3"
   },
   "source": [
    "## Finding Similar Items"
   ]
  },
  {
   "cell_type": "markdown",
   "metadata": {
    "colab_type": "text",
    "id": "mGqRZ-W1EoJQ"
   },
   "source": [
    "The objective of this lab is to implement the Min-Hashing and Locality Sensitive Hashing. This lab needs Python and Jupyter, along with the NumPy package.\n",
    "\n",
    "1. We first load the required libraries and the files containing the documents."
   ]
  },
  {
   "cell_type": "code",
   "execution_count": 13,
   "metadata": {
    "colab": {
     "base_uri": "https://localhost:8080/",
     "height": 72
    },
    "colab_type": "code",
    "id": "onDbJw2yEfXa",
    "outputId": "db289d42-dd72-4488-e6f8-55940a404660"
   },
   "outputs": [
    {
     "name": "stdout",
     "output_type": "stream",
     "text": [
      "Number of documents: 497\n",
      "[\"b'@stellargirl i loooooooovvvvvveee my kindle2. not that the dx is cool, but the 2 is fantastic in its own right.'\", \"b'reading my kindle2...  love it... lee childs is good read.'\", \"b'ok, first assesment of the #kindle2 ...it fucking rocks!!!'\"]\n"
     ]
    }
   ],
   "source": [
    "import sys\n",
    "import numpy as np\n",
    "import urllib.request\n",
    "import re\n",
    "import string\n",
    "import random\n",
    "\n",
    "file_location = 'https://www.lri.fr/~maniu/tweets.txt' #you can change this to a local file on your computer\n",
    "\n",
    "#keeping document in memory\n",
    "infile = urllib.request.urlopen(file_location)\n",
    "docs = []\n",
    "for line in infile: \n",
    "  docs.append(str(line.strip()).lower())\n",
    "print(\"Number of documents: %d\"%len(docs))\n",
    "print(docs[:3])"
   ]
  },
  {
   "cell_type": "markdown",
   "metadata": {
    "colab_type": "text",
    "id": "dzCsuFbiGmI7"
   },
   "source": [
    "2. We transform the document into $k$-shingles, and we hash them to their integer values. We compute the Jaccard similarity between two documents given as sets of shingle ids."
   ]
  },
  {
   "cell_type": "code",
   "execution_count": 14,
   "metadata": {
    "colab": {
     "base_uri": "https://localhost:8080/",
     "height": 52
    },
    "colab_type": "code",
    "id": "EoyEXIR7GzeR",
    "outputId": "b62e1f90-476f-4faf-c9ac-65e043bbd2d9"
   },
   "outputs": [
    {
     "name": "stdout",
     "output_type": "stream",
     "text": [
      "Unique shingles: 19532\n",
      "Total shingles: 28150\n"
     ]
    }
   ],
   "source": [
    "k = 5 #k for shingles\n",
    "\n",
    "shingle_id = {}\n",
    "id_shingle = []\n",
    "m = []\n",
    "ids = 0\n",
    "\n",
    "total_shingles = 0\n",
    "\n",
    "for d in docs:\n",
    "  #removing whitespace\n",
    "  d_new = ''.join(c for c in d if c.isalnum())\n",
    "  char_shing = [d_new[i:i+k] for i in range(len(d_new)-k+1)]\n",
    "  total_shingles += len(char_shing)\n",
    "  sid = set()\n",
    "  for sh in char_shing:\n",
    "    if sh not in shingle_id:\n",
    "      shingle_id[sh]=ids\n",
    "      id_shingle.append(sh)\n",
    "      ids=ids+1\n",
    "    sid.add(shingle_id[sh])\n",
    "  m.append(sid)\n",
    "\n",
    "print (\"Unique shingles: %d\"%len(id_shingle))\n",
    "print (\"Total shingles: %d\"%total_shingles)\n",
    "  "
   ]
  },
  {
   "cell_type": "code",
   "execution_count": 18,
   "metadata": {},
   "outputs": [
    {
     "data": {
      "text/plain": [
       "{0,\n",
       " 1,\n",
       " 2,\n",
       " 3,\n",
       " 4,\n",
       " 5,\n",
       " 6,\n",
       " 7,\n",
       " 8,\n",
       " 9,\n",
       " 10,\n",
       " 11,\n",
       " 12,\n",
       " 13,\n",
       " 14,\n",
       " 15,\n",
       " 16,\n",
       " 17,\n",
       " 18,\n",
       " 19,\n",
       " 20,\n",
       " 21,\n",
       " 22,\n",
       " 23,\n",
       " 24,\n",
       " 25,\n",
       " 26,\n",
       " 27,\n",
       " 28,\n",
       " 29,\n",
       " 30,\n",
       " 31,\n",
       " 32,\n",
       " 33,\n",
       " 34,\n",
       " 35,\n",
       " 36,\n",
       " 37,\n",
       " 38,\n",
       " 39,\n",
       " 40,\n",
       " 41,\n",
       " 42,\n",
       " 43,\n",
       " 44,\n",
       " 45,\n",
       " 46,\n",
       " 47,\n",
       " 48,\n",
       " 49,\n",
       " 50,\n",
       " 51,\n",
       " 52,\n",
       " 53,\n",
       " 54,\n",
       " 55,\n",
       " 56,\n",
       " 57,\n",
       " 58,\n",
       " 59,\n",
       " 60,\n",
       " 61,\n",
       " 62,\n",
       " 63,\n",
       " 64,\n",
       " 65,\n",
       " 66,\n",
       " 67,\n",
       " 68,\n",
       " 69,\n",
       " 70,\n",
       " 71,\n",
       " 72,\n",
       " 73,\n",
       " 74,\n",
       " 75,\n",
       " 76,\n",
       " 77,\n",
       " 78,\n",
       " 79,\n",
       " 80}"
      ]
     },
     "execution_count": 18,
     "metadata": {},
     "output_type": "execute_result"
    }
   ],
   "source": [
    "m[0]"
   ]
  },
  {
   "cell_type": "code",
   "execution_count": 9,
   "metadata": {
    "colab": {
     "base_uri": "https://localhost:8080/",
     "height": 34
    },
    "colab_type": "code",
    "id": "2vciVEmjUiIU",
    "outputId": "057a20f3-f743-4633-f1ec-cffd7ecb806d"
   },
   "outputs": [
    {
     "name": "stdout",
     "output_type": "stream",
     "text": [
      "0.043859649122807015\n"
     ]
    }
   ],
   "source": [
    "def jaccard_similarity(doc1, doc2):\n",
    "  if len(doc1)==0 or len(doc2)==0:\n",
    "    return 0.0\n",
    "  else:\n",
    "    inter = doc1.intersection(doc2)\n",
    "    union = doc1.union(doc2)\n",
    "    return float(len(inter))/float(len(union))\n",
    "\n",
    "#example\n",
    "\n",
    "print(jaccard_similarity(m[0],m[1]))"
   ]
  },
  {
   "cell_type": "markdown",
   "metadata": {
    "colab_type": "text",
    "id": "yovaXpHCG0FL"
   },
   "source": [
    "3. We implement the method for min-hashing given a permutation."
   ]
  },
  {
   "cell_type": "code",
   "execution_count": 31,
   "metadata": {
    "colab": {
     "base_uri": "https://localhost:8080/",
     "height": 34
    },
    "colab_type": "code",
    "id": "fpd3J3HsHW6m",
    "outputId": "74affc79-b1f4-4110-e4e8-4239bc2f8a88"
   },
   "outputs": [
    {
     "name": "stdout",
     "output_type": "stream",
     "text": [
      "497\n",
      "19532\n"
     ]
    }
   ],
   "source": [
    "def min_hash(doc, perm):\n",
    "  for d in perm:\n",
    "    if d in doc: return d\n",
    "\n",
    "perm = list(range(len(id_shingle)))\n",
    "random.shuffle(perm)\n",
    "\n",
    "min_hash(m[0],perm)\n",
    "\n",
    "print(len(m))\n",
    "print(len(id_shingle))\n"
   ]
  },
  {
   "cell_type": "markdown",
   "metadata": {
    "colab_type": "text",
    "id": "hJD2piyyHXXe"
   },
   "source": [
    "4. Implement the full Min-Hashing signature matrix for a given number $n$ of permutations. Implement the similarity estimation based on Min-Hashing (i.e., the number of permutation on which two documents agree)."
   ]
  },
  {
   "cell_type": "code",
   "execution_count": 11,
   "metadata": {
    "colab": {},
    "colab_type": "code",
    "id": "96nNQIfgWLto"
   },
   "outputs": [
    {
     "name": "stdout",
     "output_type": "stream",
     "text": [
      "0.06\n"
     ]
    }
   ],
   "source": [
    "def min_hashing_signature_matrix(docs:list, perms:list) -> list:\n",
    "    '''\n",
    "    description: Implement the full Min-Hashing signature matrix for a given number n of permutations.\n",
    "\n",
    "    param {list} docs: input documents\n",
    "    param {list} perms: input random permutations list\n",
    "    return {list} signature: min-hashing signture matrix\n",
    "    '''\n",
    "    signature = []\n",
    "    for doc in docs:\n",
    "        h_matrix = []\n",
    "        for perm in perms:\n",
    "            h_matrix.append(min_hash(doc, perm))\n",
    "        signature.append(h_matrix)\n",
    "    return signature\n",
    "\n",
    "\n",
    "def similarity_estimation(signature1:list, signature2:list) -> float:\n",
    "    '''\n",
    "    description: Implement the similarity estimation based on Min-Hashing.\n",
    "    param {list} signature1 input documents 1's signature matrix\n",
    "    param {list} signature2 input documents 2's signature matrix\n",
    "    return {float} similarity: the estimated similarity between two signatures matrices.\n",
    "    '''\n",
    "    count_agreement = 0\n",
    "    for i,value in enumerate(signature1):\n",
    "        if value == signature2[i]:\n",
    "            count_agreement += 1\n",
    "    similarity = count_agreement/len(signature1)\n",
    "    return similarity\n",
    "    \n",
    "\n",
    "def gen_permuatations(n_perms: int) -> list:\n",
    "    '''\n",
    "    description: generate permutations\n",
    "    param {int} n_perms: number of permutations\n",
    "    return {list} perms: pertumation matrix\n",
    "    '''\n",
    "    perms = []\n",
    "    for i in range(n_perms):\n",
    "        perm = list(range(len(id_shingle)))\n",
    "        random.shuffle(perm)\n",
    "        perms.append(perm)\n",
    "    return perms\n",
    "\n",
    "# estimate the similarity\n",
    "n_perms = 100\n",
    "signatures = min_hashing_signature_matrix(m, gen_permuatations(n_perms))\n",
    "print(similarity_estimation(signatures[0], signatures[1]))\n"
   ]
  },
  {
   "cell_type": "code",
   "execution_count": 20,
   "metadata": {},
   "outputs": [
    {
     "data": {
      "text/plain": [
       "100"
      ]
     },
     "execution_count": 20,
     "metadata": {},
     "output_type": "execute_result"
    }
   ],
   "source": [
    "len(signatures[0])"
   ]
  },
  {
   "cell_type": "markdown",
   "metadata": {
    "colab_type": "text",
    "id": "wpS0J_z4WN0T"
   },
   "source": [
    "5. __TASK__ Implement Locality-Sensitive Hashing, given $b$ bands of $r$ rows such that $br=n$. Compute the similarity threshold needed using the formula in the lecture $t=(1/b)^{1/r}$. Assume that signatures in the same band are similar only if the are the same (i.e., they agree on all columns). Check for similarity all documents that agree in at least one band, and compare with the true jaccard similarity."
   ]
  },
  {
   "cell_type": "code",
   "execution_count": 12,
   "metadata": {
    "colab": {},
    "colab_type": "code",
    "id": "h08gagG8YUkh"
   },
   "outputs": [
    {
     "name": "stdout",
     "output_type": "stream",
     "text": [
      "The similariry pairs of documents is [110, 352], with the similarity 0.6615384615384615\n",
      "The similariry pairs of documents is [61, 63], with the similarity 0.5555555555555556\n",
      "The similariry pairs of documents is [244, 245], with the similarity 0.65\n",
      "The similariry pairs of documents is [124, 363], with the similarity 0.6363636363636364\n"
     ]
    }
   ],
   "source": [
    "import itertools\n",
    "\n",
    "# define similarity threshold, find b and r\n",
    "b = 20\n",
    "r = int(len(signatures[0])/b)\n",
    "t = pow((1/b),(1/r))\n",
    "\n",
    "\n",
    "def get_all_bands(b: int, r: int, signatures: list) -> list:\n",
    "    '''\n",
    "    description: Get the the result of all the band dictionaries. For each dictionary, \n",
    "                 keys are the hashes of the partial signatures, values are lists of document ids.\n",
    "    param {int} b: number of bands\n",
    "    param {int} r: number of rows\n",
    "    param {list} signatures: signatures matrix of all the documents.\n",
    "    return {list} all_bands: a list including all the band dictionaries.\n",
    "    '''\n",
    "    doc_ids = []\n",
    "    all_bands = []\n",
    "    # each document is an array of length n, devide it into b bands of r values\n",
    "    sig_length = len(signatures[0])\n",
    "    for i in range(0, sig_length, r):\n",
    "        sub_signature = []\n",
    "        # have a dictionary (per band), keys are the hashes of the partial signatures, values are lists of document ids\n",
    "        band_dict = {}\n",
    "        for doc_id, sub_signature in enumerate(np.array(signatures).T[i: i+r].T):\n",
    "            key = str(sub_signature)\n",
    "            #  add the document id to the list as the dict values, and keys are the corresponding hash of the partial signatures.\n",
    "            if key in list(band_dict.keys()):\n",
    "                band_dict[key].append(doc_id)\n",
    "            else:\n",
    "                band_dict[key] = [doc_id]\n",
    "        all_bands.append(band_dict)\n",
    "    return all_bands\n",
    "    \n",
    "\n",
    "def get_similar_documents_using_jaccard(t: int, all_bands: list) -> list:\n",
    "    '''\n",
    "    description: check for similarity all documents that agree in at least one band, \n",
    "                 and compare with the true jaccard similarity.\n",
    "    param {int} t: similarity threshold needed using the formula t=(1/b)^{1/r}.\n",
    "    param {list} all_bands: the result of all the band dictionaries. \n",
    "    return {list} similar_documents: the results of the similar documents pairs.\n",
    "           {list} jaccard_similarity_list: the corresponding jaccard similarity of the similar documents pairs.\n",
    "    '''\n",
    "    similar_documents = []\n",
    "    jaccard_similarity_list = []\n",
    "    # loop over the values in the band_dict, retrieve list in each key\n",
    "    for band_dict in all_bands:\n",
    "        for key, values in band_dict.items():\n",
    "            # calculate the similarity for each pair\n",
    "            combinations = list(itertools.combinations(values, 2))\n",
    "            for combination in combinations:\n",
    "                sim = jaccard_similarity(m[combination[0]], m[combination[1]])\n",
    "                # reject the pair if similarity is smaller than the threshold\n",
    "                if sim > t and [combination[0], combination[1]] not in similar_documents:\n",
    "                    similar_documents.append([combination[0], combination[1]])\n",
    "                    jaccard_similarity_list.append(sim)\n",
    "    return similar_documents, jaccard_similarity_list\n",
    "\n",
    "# check the results of the similar pairs of documents with corresponding similarities.\n",
    "all_bands = get_all_bands(b, r, signatures)\n",
    "similar_documents, jaccard_similarity_list = get_similar_documents_using_jaccard(t, all_bands)\n",
    "if similar_documents == []:\n",
    "    print(\"There are not similar pairs of documents.\")\n",
    "else:\n",
    "    for i, val in enumerate(similar_documents):\n",
    "        print(\"The similariry pairs of documents is {}, with the similarity {}\"\n",
    "                .format(str(val), str(jaccard_similarity_list[i])))"
   ]
  },
  {
   "cell_type": "markdown",
   "metadata": {},
   "source": [
    "Adjust the parameters, to see the change of different curves and the correlation between probability and similarity."
   ]
  },
  {
   "cell_type": "code",
   "execution_count": 135,
   "metadata": {},
   "outputs": [
    {
     "data": {
      "text/plain": [
       "<matplotlib.legend.Legend at 0x7fe470336ca0>"
      ]
     },
     "execution_count": 135,
     "metadata": {},
     "output_type": "execute_result"
    },
    {
     "data": {
      "image/png": "[encoded data removed]",
      "text/plain": [
       "<Figure size 432x288 with 1 Axes>"
      ]
     },
     "metadata": {
      "needs_background": "light"
     },
     "output_type": "display_data"
    }
   ],
   "source": [
    "import matplotlib.pyplot as plt\n",
    "\n",
    "\n",
    "def calculate_probability(s, r, b):\n",
    "    '''\n",
    "    description: calculate the probability with different parameters\n",
    "    param {float} s\n",
    "    param {int} r\n",
    "    param {int} b\n",
    "    return {float} probability\n",
    "    '''\n",
    "    probability = 1 - (1 - s**r)**b\n",
    "    return probability\n",
    "\n",
    "# play with the parameters\n",
    "b_list = [100, 50, 25, 20, 10, 5, 1]\n",
    "sig_length = len(signatures[0])\n",
    "r_list = [round(sig_length/100), round(sig_length/50),round(sig_length/25), round(sig_length/20), \n",
    "          round(sig_length/10), round(sig_length/5),round(sig_length/1)]\n",
    "\n",
    "# plot the probability figure.\n",
    "p_results_all = []\n",
    "for i, b in enumerate(b_list):\n",
    "    r = r_list[i]\n",
    "    p_result = []\n",
    "    for s in np.arange(0.01, 1, 0.01):\n",
    "        p = calculate_probability(s, r, b)\n",
    "        p_result.append(p)\n",
    "    p_results_all.append(p_result)\n",
    "\n",
    "for i, p_result in enumerate(p_results_all):\n",
    "    plt.plot(np.arange(0.01, 1, 0.01), p_result, label=\"b = {}, r = {}\".format(str(b_list[i]), str(r_list[i])))\n",
    "plt.ylabel('probability')\n",
    "plt.xlabel('Jaccard similarity')\n",
    "plt.title(\"The correlation between probability and similarity under different parameters b and r\")\n",
    "plt.legend()"
   ]
  }
 ],
 "metadata": {
  "colab": {
   "collapsed_sections": [],
   "name": "m2_ds_algods_lab1_similar.ipynb",
   "provenance": []
  },
  "kernelspec": {
   "display_name": "Python 3.9.12 ('base')",
   "language": "python",
   "name": "python3"
  },
  "language_info": {
   "codemirror_mode": {
    "name": "ipython",
    "version": 3
   },
   "file_extension": ".py",
   "mimetype": "text/x-python",
   "name": "python",
   "nbconvert_exporter": "python",
   "pygments_lexer": "ipython3",
   "version": "3.9.12 (main, Apr  5 2022, 01:53:17) \n[Clang 12.0.0 ]"
  },
  "vscode": {
   "interpreter": {
    "hash": "1e5c6842fc39ac49b4102b6863c7493ee82b59579c358c406788e39adabcdc60"
   }
  }
 },
 "nbformat": 4,
 "nbformat_minor": 2
}
